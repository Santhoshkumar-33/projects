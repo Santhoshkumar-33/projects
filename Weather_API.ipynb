{
  "nbformat": 4,
  "nbformat_minor": 0,
  "metadata": {
    "colab": {
      "provenance": [],
      "authorship_tag": "ABX9TyMdSEFPS83YkEpZWzTC6qp4",
      "include_colab_link": true
    },
    "kernelspec": {
      "name": "python3",
      "display_name": "Python 3"
    },
    "language_info": {
      "name": "python"
    }
  },
  "cells": [
    {
      "cell_type": "markdown",
      "metadata": {
        "id": "view-in-github",
        "colab_type": "text"
      },
      "source": [
        "<a href=\"https://colab.research.google.com/github/santhoshkumars33/projects/blob/main/Weather_API.ipynb\" target=\"_parent\"><img src=\"https://colab.research.google.com/assets/colab-badge.svg\" alt=\"Open In Colab\"/></a>"
      ]
    },
    {
      "cell_type": "code",
      "execution_count": 1,
      "metadata": {
        "colab": {
          "base_uri": "https://localhost:8080/"
        },
        "id": "8qRvJL103ja1",
        "outputId": "cc26acf2-3b66-4d1f-dca8-d660f41d6867"
      },
      "outputs": [
        {
          "output_type": "stream",
          "name": "stdout",
          "text": [
            "Enter the city name: theni\n",
            "********************************************************************\n",
            "Weather Stats for - THENI  || 17 Jan 2025 | 03:25:51 PM\n",
            "********************************************************************\n",
            "Theni's current temperature is     :21.53 deg C\n",
            "Theni's current weather desc  \t\t:broken clouds\n",
            "Theni's current Humidity      \t\t:80%\n",
            "Theni's Current wind speed    \t\t:1.79kmph\n"
          ]
        }
      ],
      "source": [
        "import requests\n",
        "from datetime import datetime\n",
        "\n",
        "api_key = '87d845b0b6cf29baa1a73cc34b067a95'\n",
        "location = input(\"Enter the city name: \")\n",
        "\n",
        "complete_api_link = \"https://api.openweathermap.org/data/2.5/weather?q=\"+location+\"&appid=\"+api_key\n",
        "link = requests.get(complete_api_link)\n",
        "data = api_link.json()\n",
        "\n",
        "#create variables to store and display data\n",
        "temp_city = ((api_data['main']['temp']) - 273.15)\n",
        "weather_desc = api_data['weather'][0]['description']\n",
        "hmdt = api_data['main']['humidity']\n",
        "wind_spd = api_data['wind']['speed']\n",
        "date_time = datetime.now().strftime(\"%d %b %Y | %I:%M:%S %p\")\n",
        "\n",
        "print (\"********************************************************************\")\n",
        "print (\"Weather Stats for - {}  || {}\".format(location.upper(), date_time))\n",
        "print (\"********************************************************************\")\n",
        "\n",
        "print (\"{}'s current temperature is     :{:.2f} deg C\".format(location.title(),temp_city))\n",
        "print (\"{}'s current weather desc  \t\t:{}\".format(location.title(),weather_desc))\n",
        "print (\"{}'s current Humidity      \t\t:{}%\".format(location.title(),hmdt))\n",
        "print (\"{}'s Current wind speed    \t\t:{}kmph\".format(location.title(),wind_spd))\n"
      ]
    },
    {
      "cell_type": "code",
      "source": [
        "import requests\n",
        "\n",
        "api_key = '87d845b0b6cf29baa1a73cc34b067a95'\n",
        "location = input(\"Enter the city name: \")\n",
        "\n",
        "# Step 1: Get latitude and longitude of the city\n",
        "geocoding_url = f\"http://api.openweathermap.org/geo/1.0/direct?q={location}&limit=1&appid={api_key}\"\n",
        "geo_response = requests.get(geocoding_url).json()\n",
        "\n",
        "if len(geo_response) == 0:\n",
        "    print(\"City not found. Please check the name.\")\n",
        "else:\n",
        "    latitude = geo_response[0]['lat']\n",
        "    longitude = geo_response[0]['lon']\n",
        "\n",
        "    # Step 2: Get air pollution data\n",
        "    pollution_url = f\"http://api.openweathermap.org/data/2.5/air_pollution?lat={latitude}&lon={longitude}&appid={api_key}\"\n",
        "    pollution_response = requests.get(pollution_url).json()\n",
        "\n",
        "    # Extract pollutant data\n",
        "    aqi = pollution_response['list'][0]['main']['aqi']  # Air Quality Index (1-5)\n",
        "    components = pollution_response['list'][0]['components']\n",
        "\n",
        "    # Display data\n",
        "    print(f\"Air Quality in {location.title()}:\")\n",
        "    print(f\"  AQI (Air Quality Index): {aqi}\")\n",
        "    print(f\"  CO (Carbon Monoxide): {components['co']} µg/m³\")\n",
        "    print(f\"  NO (Nitrogen Monoxide): {components['no']} µg/m³\")\n",
        "    print(f\"  NO2 (Nitrogen Dioxide): {components['no2']} µg/m³\")\n",
        "    print(f\"  O3 (Ozone): {components['o3']} µg/m³\")\n",
        "    print(f\"  SO2 (Sulfur Dioxide): {components['so2']} µg/m³\")\n",
        "    print(f\"  PM2.5 (Fine Particles): {components['pm2_5']} µg/m³\")\n",
        "    print(f\"  PM10 (Coarse Particles): {components['pm10']} µg/m³\")\n",
        "    print(f\"  NH3 (Ammonia): {components['nh3']} µg/m³\")\n"
      ],
      "metadata": {
        "colab": {
          "base_uri": "https://localhost:8080/"
        },
        "id": "gj8nGvvA3ypE",
        "outputId": "9aa05162-f1ae-44ef-9c4b-50a12636cf71"
      },
      "execution_count": 2,
      "outputs": [
        {
          "output_type": "stream",
          "name": "stdout",
          "text": [
            "Enter the city name: theni\n",
            "Air Quality in Theni:\n",
            "  AQI (Air Quality Index): 4\n",
            "  CO (Carbon Monoxide): 487.33 µg/m³\n",
            "  NO (Nitrogen Monoxide): 0 µg/m³\n",
            "  NO2 (Nitrogen Dioxide): 11.31 µg/m³\n",
            "  O3 (Ozone): 87.98 µg/m³\n",
            "  SO2 (Sulfur Dioxide): 9.06 µg/m³\n",
            "  PM2.5 (Fine Particles): 59.69 µg/m³\n",
            "  PM10 (Coarse Particles): 77.47 µg/m³\n",
            "  NH3 (Ammonia): 9.25 µg/m³\n"
          ]
        }
      ]
    }
  ]
}
